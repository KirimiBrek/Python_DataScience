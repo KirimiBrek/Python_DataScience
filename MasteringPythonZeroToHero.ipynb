{
 "cells": [
  {
   "cell_type": "markdown",
   "id": "4accb4ad-e365-4445-b9ce-dd03ddb3bdfc",
   "metadata": {},
   "source": [
    "# This is Python Tutorial"
   ]
  },
  {
   "cell_type": "markdown",
   "id": "76b6d09a-2b78-46ff-be5a-9fecec2b82cb",
   "metadata": {},
   "source": [
    "This is our first program in python"
   ]
  },
  {
   "cell_type": "code",
   "execution_count": 2,
   "id": "1ca90b11-617b-4c01-a470-596975d1c9ab",
   "metadata": {},
   "outputs": [
    {
     "name": "stdout",
     "output_type": "stream",
     "text": [
      "Hellow World\n"
     ]
    }
   ],
   "source": [
    "print(\"Hellow World\")"
   ]
  },
  {
   "cell_type": "markdown",
   "id": "8d0a6225-ba79-4f41-9ebd-b42e4be83879",
   "metadata": {},
   "source": [
    "$a=b+c$"
   ]
  },
  {
   "cell_type": "markdown",
   "id": "562dae1e-42ae-496b-8a6d-51b6c35e5944",
   "metadata": {},
   "source": [
    "# Variables"
   ]
  },
  {
   "cell_type": "code",
   "execution_count": 3,
   "id": "9f85a73a-c344-4481-aee4-63846fecb695",
   "metadata": {},
   "outputs": [],
   "source": [
    "x = 3"
   ]
  },
  {
   "cell_type": "code",
   "execution_count": 4,
   "id": "c53caa11-0eee-4ee0-ab1d-b3113149e8fe",
   "metadata": {},
   "outputs": [
    {
     "name": "stdout",
     "output_type": "stream",
     "text": [
      "Variable   Type    Data/Info\n",
      "----------------------------\n",
      "x          int     3\n"
     ]
    }
   ],
   "source": [
    "%whos"
   ]
  },
  {
   "cell_type": "code",
   "execution_count": 5,
   "id": "21a0424f-4702-4e0d-896d-c02a2d4e751b",
   "metadata": {},
   "outputs": [
    {
     "name": "stdout",
     "output_type": "stream",
     "text": [
      "<class 'int'>\n"
     ]
    }
   ],
   "source": [
    "print(type(x))"
   ]
  },
  {
   "cell_type": "code",
   "execution_count": 6,
   "id": "775ce46d-bc3e-43ee-b3d5-a9a24ef3bbb3",
   "metadata": {},
   "outputs": [],
   "source": [
    "x = 5.7"
   ]
  },
  {
   "cell_type": "code",
   "execution_count": 7,
   "id": "29fd7a7c-2580-4b01-a90b-09004ada5d30",
   "metadata": {},
   "outputs": [
    {
     "name": "stdout",
     "output_type": "stream",
     "text": [
      "Variable   Type     Data/Info\n",
      "-----------------------------\n",
      "x          float    5.7\n"
     ]
    }
   ],
   "source": [
    "%whos"
   ]
  },
  {
   "cell_type": "code",
   "execution_count": 8,
   "id": "7c00b27a-1f94-4e1c-b14f-51e0df5aabfa",
   "metadata": {},
   "outputs": [
    {
     "name": "stdout",
     "output_type": "stream",
     "text": [
      "<class 'float'>\n"
     ]
    }
   ],
   "source": [
    "print(type(x))"
   ]
  },
  {
   "cell_type": "code",
   "execution_count": 9,
   "id": "c4d79a2d-4d81-4cd8-9463-294396cfdd9d",
   "metadata": {},
   "outputs": [],
   "source": [
    "abcd = 556.32"
   ]
  },
  {
   "cell_type": "code",
   "execution_count": 10,
   "id": "2cba1666-3a84-441b-a1b0-a36b7e44535c",
   "metadata": {},
   "outputs": [
    {
     "name": "stdout",
     "output_type": "stream",
     "text": [
      "Variable   Type     Data/Info\n",
      "-----------------------------\n",
      "abcd       float    556.32\n",
      "x          float    5.7\n"
     ]
    }
   ],
   "source": [
    "%whos"
   ]
  },
  {
   "cell_type": "code",
   "execution_count": 13,
   "id": "25f63e96-042a-426c-b28a-34fda6b83b48",
   "metadata": {},
   "outputs": [],
   "source": [
    "a,b,c,d,f = 3,5,6.0,7.2,-3"
   ]
  },
  {
   "cell_type": "code",
   "execution_count": 14,
   "id": "7e16bd3e-1227-4dec-9ea1-299c48b9b8c3",
   "metadata": {},
   "outputs": [
    {
     "name": "stdout",
     "output_type": "stream",
     "text": [
      "Variable   Type     Data/Info\n",
      "-----------------------------\n",
      "a          int      3\n",
      "abcd       float    556.32\n",
      "b          int      5\n",
      "c          float    6.0\n",
      "d          float    7.2\n",
      "f          int      -3\n",
      "x          float    5.7\n"
     ]
    }
   ],
   "source": [
    "%whos"
   ]
  },
  {
   "cell_type": "code",
   "execution_count": 15,
   "id": "22d91c6d-3fc8-4b69-9bd0-ff2f9aa02789",
   "metadata": {},
   "outputs": [],
   "source": [
    "del abcd"
   ]
  },
  {
   "cell_type": "code",
   "execution_count": 16,
   "id": "a1a4f0ad-c705-4911-af60-c4b5428f6eaa",
   "metadata": {},
   "outputs": [
    {
     "name": "stdout",
     "output_type": "stream",
     "text": [
      "Variable   Type     Data/Info\n",
      "-----------------------------\n",
      "a          int      3\n",
      "b          int      5\n",
      "c          float    6.0\n",
      "d          float    7.2\n",
      "f          int      -3\n",
      "x          float    5.7\n"
     ]
    }
   ],
   "source": [
    "%whos"
   ]
  },
  {
   "cell_type": "code",
   "execution_count": 17,
   "id": "1000e853-7009-4136-9029-dca78c5b5ce6",
   "metadata": {},
   "outputs": [
    {
     "ename": "NameError",
     "evalue": "name 'abcd' is not defined",
     "output_type": "error",
     "traceback": [
      "\u001b[1;31m---------------------------------------------------------------------------\u001b[0m",
      "\u001b[1;31mNameError\u001b[0m                                 Traceback (most recent call last)",
      "Cell \u001b[1;32mIn[17], line 1\u001b[0m\n\u001b[1;32m----> 1\u001b[0m \u001b[38;5;28mprint\u001b[39m(abcd)\n",
      "\u001b[1;31mNameError\u001b[0m: name 'abcd' is not defined"
     ]
    }
   ],
   "source": [
    "print(abcd)"
   ]
  },
  {
   "cell_type": "code",
   "execution_count": 18,
   "id": "aa5b3fc7-db9b-48d8-b405-6df7583a2ff7",
   "metadata": {},
   "outputs": [],
   "source": [
    "c = 2+4j"
   ]
  },
  {
   "cell_type": "code",
   "execution_count": 19,
   "id": "dd45ac5e-9db7-4cf1-b2c1-a2c690233ddb",
   "metadata": {},
   "outputs": [
    {
     "name": "stdout",
     "output_type": "stream",
     "text": [
      "<class 'complex'>\n"
     ]
    }
   ],
   "source": [
    "print(type(c))"
   ]
  },
  {
   "cell_type": "code",
   "execution_count": 20,
   "id": "42649295-5775-4136-a588-96777eae45ca",
   "metadata": {},
   "outputs": [],
   "source": [
    "s = \"hellow how are you\""
   ]
  },
  {
   "cell_type": "code",
   "execution_count": 21,
   "id": "d5257605-d761-4d38-b184-af99648cbab4",
   "metadata": {},
   "outputs": [
    {
     "name": "stdout",
     "output_type": "stream",
     "text": [
      "<class 'str'>\n"
     ]
    }
   ],
   "source": [
    "print(type(s))"
   ]
  },
  {
   "cell_type": "markdown",
   "id": "62e9a63a-b026-45f5-8f68-1b60f5ee38d9",
   "metadata": {},
   "source": [
    "# Operators"
   ]
  },
  {
   "cell_type": "code",
   "execution_count": 22,
   "id": "92fc41d9-c47a-4ee0-942e-54fe1df8a08c",
   "metadata": {},
   "outputs": [],
   "source": [
    "sumOfaAndb =a+b"
   ]
  },
  {
   "cell_type": "code",
   "execution_count": 23,
   "id": "39d52e55-2382-4658-8f0b-56c9278b9593",
   "metadata": {},
   "outputs": [
    {
     "name": "stdout",
     "output_type": "stream",
     "text": [
      "8\n"
     ]
    }
   ],
   "source": [
    "print(sumOfaAndb)"
   ]
  },
  {
   "cell_type": "code",
   "execution_count": 24,
   "id": "0e423edd-a178-40ff-aaac-e1a282bc7ec3",
   "metadata": {},
   "outputs": [
    {
     "data": {
      "text/plain": [
       "int"
      ]
     },
     "execution_count": 24,
     "metadata": {},
     "output_type": "execute_result"
    }
   ],
   "source": [
    "type(sumOfaAndb)"
   ]
  },
  {
   "cell_type": "code",
   "execution_count": 25,
   "id": "69735bf0-7377-4d4c-adee-e79b5cd4ff89",
   "metadata": {},
   "outputs": [
    {
     "data": {
      "text/plain": [
       "float"
      ]
     },
     "execution_count": 25,
     "metadata": {},
     "output_type": "execute_result"
    }
   ],
   "source": [
    "type(a+d)"
   ]
  },
  {
   "cell_type": "code",
   "execution_count": 26,
   "id": "73820c1a-8d32-4243-9a60-ef14215d6afd",
   "metadata": {},
   "outputs": [
    {
     "name": "stdout",
     "output_type": "stream",
     "text": [
      "hellowworld\n"
     ]
    }
   ],
   "source": [
    "s1=\"hellow\"\n",
    "s2=\"world\"\n",
    "s=s1+s2\n",
    "print(s)"
   ]
  },
  {
   "cell_type": "code",
   "execution_count": 29,
   "id": "6ecee53b-3a9e-44a4-a352-2751e2ac0137",
   "metadata": {},
   "outputs": [],
   "source": [
    "startingTimeOfTheCourse=2.0"
   ]
  },
  {
   "cell_type": "code",
   "execution_count": 30,
   "id": "2102d1e3-9409-463e-98e5-eef99f9443f7",
   "metadata": {},
   "outputs": [
    {
     "name": "stdout",
     "output_type": "stream",
     "text": [
      "Variable                  Type       Data/Info\n",
      "----------------------------------------------\n",
      "a                         int        3\n",
      "b                         int        5\n",
      "c                         complex    (2+4j)\n",
      "d                         float      7.2\n",
      "f                         int        -3\n",
      "s                         str        hellowworld\n",
      "s1                        str        hellow\n",
      "s2                        str        world\n",
      "startingTimeOfTheCourse   float      2.0\n",
      "sumOfaAndb                int        8\n",
      "x                         float      5.7\n"
     ]
    }
   ],
   "source": [
    "%whos"
   ]
  },
  {
   "cell_type": "markdown",
   "id": "bba26126-981c-42f4-ab3a-0daeb06a2eb1",
   "metadata": {},
   "source": [
    "# Bool"
   ]
  },
  {
   "cell_type": "code",
   "execution_count": 31,
   "id": "c2398f7f-4f3d-4f23-a4bb-0c7c5001157a",
   "metadata": {},
   "outputs": [],
   "source": [
    "a=True\n",
    "b=True\n",
    "c=False"
   ]
  },
  {
   "cell_type": "code",
   "execution_count": 32,
   "id": "fc3a7148-beeb-4b1d-9b85-5d470d52e1e6",
   "metadata": {},
   "outputs": [
    {
     "name": "stdout",
     "output_type": "stream",
     "text": [
      "Variable                  Type     Data/Info\n",
      "--------------------------------------------\n",
      "a                         bool     True\n",
      "b                         bool     True\n",
      "c                         bool     False\n",
      "d                         float    7.2\n",
      "f                         int      -3\n",
      "s                         str      hellowworld\n",
      "s1                        str      hellow\n",
      "s2                        str      world\n",
      "startingTimeOfTheCourse   float    2.0\n",
      "sumOfaAndb                int      8\n",
      "x                         float    5.7\n"
     ]
    }
   ],
   "source": [
    "%whos"
   ]
  },
  {
   "cell_type": "code",
   "execution_count": 33,
   "id": "4830a44a-0b9b-442e-bba3-f057ddff3594",
   "metadata": {},
   "outputs": [
    {
     "name": "stdout",
     "output_type": "stream",
     "text": [
      "True\n",
      "False\n",
      "False\n"
     ]
    }
   ],
   "source": [
    "print(a and b)\n",
    "print(a and c)\n",
    "print(b and c)"
   ]
  },
  {
   "cell_type": "code",
   "execution_count": 35,
   "id": "8a632e24-b056-4445-89ab-c1b022d3d430",
   "metadata": {},
   "outputs": [
    {
     "name": "stdout",
     "output_type": "stream",
     "text": [
      "True\n"
     ]
    }
   ],
   "source": [
    "d=a or c\n",
    "print(d)"
   ]
  },
  {
   "cell_type": "code",
   "execution_count": 37,
   "id": "a15535ea-6e96-40ce-963d-f7d5049bc802",
   "metadata": {},
   "outputs": [
    {
     "data": {
      "text/plain": [
       "False"
      ]
     },
     "execution_count": 37,
     "metadata": {},
     "output_type": "execute_result"
    }
   ],
   "source": [
    "not(a)"
   ]
  },
  {
   "cell_type": "code",
   "execution_count": 38,
   "id": "3f55135f-7587-451b-b517-3b46428f75d1",
   "metadata": {},
   "outputs": [
    {
     "data": {
      "text/plain": [
       "True"
      ]
     },
     "execution_count": 38,
     "metadata": {},
     "output_type": "execute_result"
    }
   ],
   "source": [
    "not(c)"
   ]
  },
  {
   "cell_type": "code",
   "execution_count": 39,
   "id": "eaacbbc6-67d5-447d-bb59-2de049ec21ec",
   "metadata": {},
   "outputs": [
    {
     "data": {
      "text/plain": [
       "True"
      ]
     },
     "execution_count": 39,
     "metadata": {},
     "output_type": "execute_result"
    }
   ],
   "source": [
    "not (a and b) or (c or d)"
   ]
  },
  {
   "cell_type": "markdown",
   "id": "f9d9d8a5-8054-4177-a0ce-d9fa92725a36",
   "metadata": {},
   "source": [
    "# Comparisons"
   ]
  },
  {
   "cell_type": "code",
   "execution_count": 40,
   "id": "bf04dcdc-0b2b-40b5-94ea-209c46f99520",
   "metadata": {},
   "outputs": [
    {
     "name": "stdout",
     "output_type": "stream",
     "text": [
      "True\n"
     ]
    }
   ],
   "source": [
    "print(2<3)"
   ]
  },
  {
   "cell_type": "code",
   "execution_count": 43,
   "id": "57f5d1f7-206f-49fd-9e52-599f46b93875",
   "metadata": {},
   "outputs": [
    {
     "name": "stdout",
     "output_type": "stream",
     "text": [
      "True\n",
      "<class 'bool'>\n"
     ]
    }
   ],
   "source": [
    "c=2<3\n",
    "print(c)\n",
    "print(type(c))"
   ]
  },
  {
   "cell_type": "code",
   "execution_count": 44,
   "id": "d0bdfc6d-3fbe-495a-b9d4-87f1db000925",
   "metadata": {},
   "outputs": [
    {
     "name": "stdout",
     "output_type": "stream",
     "text": [
      "False\n"
     ]
    }
   ],
   "source": [
    "d=3==4\n",
    "print(d)"
   ]
  },
  {
   "cell_type": "code",
   "execution_count": 45,
   "id": "c1e0aa43-0078-4876-a348-016196173edf",
   "metadata": {},
   "outputs": [
    {
     "data": {
      "text/plain": [
       "True"
      ]
     },
     "execution_count": 45,
     "metadata": {},
     "output_type": "execute_result"
    }
   ],
   "source": [
    "3==3.0"
   ]
  },
  {
   "cell_type": "code",
   "execution_count": 46,
   "id": "1a3eb3e5-183b-4a32-8395-8e828c39cd6b",
   "metadata": {},
   "outputs": [],
   "source": [
    "x=4\n",
    "y=9\n",
    "z=8.3\n",
    "r=-3"
   ]
  },
  {
   "cell_type": "code",
   "execution_count": 47,
   "id": "da3a460f-ac88-498b-86f0-923253f05ddc",
   "metadata": {},
   "outputs": [
    {
     "data": {
      "text/plain": [
       "True"
      ]
     },
     "execution_count": 47,
     "metadata": {},
     "output_type": "execute_result"
    }
   ],
   "source": [
    "(x<y) and (z<y) or (r==x)"
   ]
  },
  {
   "cell_type": "code",
   "execution_count": 48,
   "id": "826fca6d-36db-45d3-8493-26b7a5be6a34",
   "metadata": {},
   "outputs": [
    {
     "name": "stdout",
     "output_type": "stream",
     "text": [
      "False\n"
     ]
    }
   ],
   "source": [
    "print((not(2!=3)and True) or (False and True))"
   ]
  },
  {
   "cell_type": "markdown",
   "id": "60544f58-a53f-4d38-b519-f780e3b3deb2",
   "metadata": {},
   "source": [
    "# Functions"
   ]
  },
  {
   "cell_type": "code",
   "execution_count": 49,
   "id": "a5d1d50b-8388-4da7-9f45-1e50ae535f5d",
   "metadata": {},
   "outputs": [
    {
     "name": "stdout",
     "output_type": "stream",
     "text": [
      "4\n"
     ]
    }
   ],
   "source": [
    "print(round(4.345))"
   ]
  },
  {
   "cell_type": "code",
   "execution_count": 50,
   "id": "7a3d388d-754b-4b69-8811-95bf9ecc9167",
   "metadata": {},
   "outputs": [
    {
     "name": "stdout",
     "output_type": "stream",
     "text": [
      "4.557\n"
     ]
    }
   ],
   "source": [
    "print(round(4.556789,3))"
   ]
  },
  {
   "cell_type": "code",
   "execution_count": 51,
   "id": "adaf1ddb-0d72-4124-b07f-d2ed59c4463a",
   "metadata": {},
   "outputs": [
    {
     "name": "stdout",
     "output_type": "stream",
     "text": [
      "(5, 2)\n"
     ]
    }
   ],
   "source": [
    "print(divmod(27,5))"
   ]
  },
  {
   "cell_type": "code",
   "execution_count": 54,
   "id": "845e3168-f97c-410a-b5a1-fddfb39e98f1",
   "metadata": {},
   "outputs": [
    {
     "name": "stdout",
     "output_type": "stream",
     "text": [
      "(3, 7)\n"
     ]
    },
    {
     "data": {
      "text/plain": [
       "tuple"
      ]
     },
     "execution_count": 54,
     "metadata": {},
     "output_type": "execute_result"
    }
   ],
   "source": [
    "G=divmod(34,9)\n",
    "print(G)\n",
    "type(G)"
   ]
  },
  {
   "cell_type": "code",
   "execution_count": 55,
   "id": "8657347a-d14d-4a90-b7bd-9dafe2a96d13",
   "metadata": {},
   "outputs": [
    {
     "data": {
      "text/plain": [
       "3"
      ]
     },
     "execution_count": 55,
     "metadata": {},
     "output_type": "execute_result"
    }
   ],
   "source": [
    "G[0]"
   ]
  },
  {
   "cell_type": "code",
   "execution_count": 56,
   "id": "9a1300a1-2233-442e-8baa-f2e9720bae31",
   "metadata": {},
   "outputs": [
    {
     "data": {
      "text/plain": [
       "7"
      ]
     },
     "execution_count": 56,
     "metadata": {},
     "output_type": "execute_result"
    }
   ],
   "source": [
    "G[1]"
   ]
  },
  {
   "cell_type": "code",
   "execution_count": 57,
   "id": "96e91678-89fc-4164-8077-be805aa4838b",
   "metadata": {},
   "outputs": [
    {
     "data": {
      "text/plain": [
       "True"
      ]
     },
     "execution_count": 57,
     "metadata": {},
     "output_type": "execute_result"
    }
   ],
   "source": [
    "isinstance(3,int)"
   ]
  },
  {
   "cell_type": "code",
   "execution_count": 59,
   "id": "3a5fa62c-4ce0-4432-9767-a54993067f89",
   "metadata": {},
   "outputs": [
    {
     "data": {
      "text/plain": [
       "False"
      ]
     },
     "execution_count": 59,
     "metadata": {},
     "output_type": "execute_result"
    }
   ],
   "source": [
    "isinstance(3.0,int)"
   ]
  },
  {
   "cell_type": "code",
   "execution_count": 60,
   "id": "246e3d14-fe42-4965-8b07-585916cb5a46",
   "metadata": {},
   "outputs": [
    {
     "data": {
      "text/plain": [
       "True"
      ]
     },
     "execution_count": 60,
     "metadata": {},
     "output_type": "execute_result"
    }
   ],
   "source": [
    "isinstance(3.0,(int,float))"
   ]
  },
  {
   "cell_type": "code",
   "execution_count": 64,
   "id": "8d89c808-245d-4743-af59-5a2fe5f21995",
   "metadata": {},
   "outputs": [
    {
     "data": {
      "text/plain": [
       "True"
      ]
     },
     "execution_count": 64,
     "metadata": {},
     "output_type": "execute_result"
    }
   ],
   "source": [
    "isinstance(2+4j,(int,float,complex,str))"
   ]
  },
  {
   "cell_type": "code",
   "execution_count": 65,
   "id": "2cfc044e-9790-4575-896f-0a85b73a7627",
   "metadata": {},
   "outputs": [
    {
     "data": {
      "text/plain": [
       "16"
      ]
     },
     "execution_count": 65,
     "metadata": {},
     "output_type": "execute_result"
    }
   ],
   "source": [
    "2**4"
   ]
  },
  {
   "cell_type": "code",
   "execution_count": 67,
   "id": "82151ab8-147b-4f26-9dc2-8fd1b12b4e0d",
   "metadata": {},
   "outputs": [
    {
     "data": {
      "text/plain": [
       "16"
      ]
     },
     "execution_count": 67,
     "metadata": {},
     "output_type": "execute_result"
    }
   ],
   "source": [
    "pow(2,4)"
   ]
  },
  {
   "cell_type": "code",
   "execution_count": 68,
   "id": "27052ab3-f8a6-4b10-8c94-79d8c59e88ca",
   "metadata": {},
   "outputs": [
    {
     "data": {
      "text/plain": [
       "2"
      ]
     },
     "execution_count": 68,
     "metadata": {},
     "output_type": "execute_result"
    }
   ],
   "source": [
    "pow(2,4,7)"
   ]
  },
  {
   "cell_type": "code",
   "execution_count": 69,
   "id": "80e5028f-62ff-4fa2-910c-95c70c1f9ab1",
   "metadata": {},
   "outputs": [
    {
     "name": "stdin",
     "output_type": "stream",
     "text": [
      "Enter a number : 22\n"
     ]
    }
   ],
   "source": [
    "x=input(\"Enter a number :\")"
   ]
  },
  {
   "cell_type": "code",
   "execution_count": 70,
   "id": "70372b04-71bf-4b6b-979b-a3f327201cbb",
   "metadata": {},
   "outputs": [
    {
     "data": {
      "text/plain": [
       "str"
      ]
     },
     "execution_count": 70,
     "metadata": {},
     "output_type": "execute_result"
    }
   ],
   "source": [
    "type(x)"
   ]
  },
  {
   "cell_type": "code",
   "execution_count": 71,
   "id": "df0a9593-5b71-434f-8cee-d8876f73df41",
   "metadata": {},
   "outputs": [],
   "source": [
    "x=int(x)"
   ]
  },
  {
   "cell_type": "code",
   "execution_count": 73,
   "id": "2d6ce3c8-1886-46f6-8a76-508823151c73",
   "metadata": {},
   "outputs": [
    {
     "data": {
      "text/plain": [
       "int"
      ]
     },
     "execution_count": 73,
     "metadata": {},
     "output_type": "execute_result"
    }
   ],
   "source": [
    "type(x)"
   ]
  },
  {
   "cell_type": "code",
   "execution_count": 74,
   "id": "d21ff78c-2ae1-4810-bd5c-5c49944c74f5",
   "metadata": {},
   "outputs": [
    {
     "name": "stdout",
     "output_type": "stream",
     "text": [
      "18\n"
     ]
    }
   ],
   "source": [
    "print(x-4)"
   ]
  },
  {
   "cell_type": "code",
   "execution_count": 75,
   "id": "5bbe24fa-f319-4e3f-b706-cd8bccf122ff",
   "metadata": {},
   "outputs": [
    {
     "name": "stdin",
     "output_type": "stream",
     "text": [
      "Enter a real number : 14\n"
     ]
    }
   ],
   "source": [
    "a=float(input(\"Enter a real number :\"))"
   ]
  },
  {
   "cell_type": "code",
   "execution_count": 76,
   "id": "5ba1d31b-1fb7-46e0-afa0-84ca37222e6d",
   "metadata": {},
   "outputs": [
    {
     "data": {
      "text/plain": [
       "float"
      ]
     },
     "execution_count": 76,
     "metadata": {},
     "output_type": "execute_result"
    }
   ],
   "source": [
    "type(a)"
   ]
  },
  {
   "cell_type": "code",
   "execution_count": 78,
   "id": "4c5f4d0f-6ccf-49b6-b596-e2ef59ae30d6",
   "metadata": {},
   "outputs": [
    {
     "data": {
      "text/plain": [
       "\u001b[1;31mSignature:\u001b[0m \u001b[0mpow\u001b[0m\u001b[1;33m(\u001b[0m\u001b[0mbase\u001b[0m\u001b[1;33m,\u001b[0m \u001b[0mexp\u001b[0m\u001b[1;33m,\u001b[0m \u001b[0mmod\u001b[0m\u001b[1;33m=\u001b[0m\u001b[1;32mNone\u001b[0m\u001b[1;33m)\u001b[0m\u001b[1;33m\u001b[0m\u001b[1;33m\u001b[0m\u001b[0m\n",
       "\u001b[1;31mDocstring:\u001b[0m\n",
       "Equivalent to base**exp with 2 arguments or base**exp % mod with 3 arguments\n",
       "\n",
       "Some types, such as ints, are able to use a more efficient algorithm when\n",
       "invoked using the three argument form.\n",
       "\u001b[1;31mType:\u001b[0m      builtin_function_or_method"
      ]
     },
     "metadata": {},
     "output_type": "display_data"
    }
   ],
   "source": [
    "pow??"
   ]
  },
  {
   "cell_type": "code",
   "execution_count": 79,
   "id": "05a0e069-4f4f-437b-a8cc-01ac718af5be",
   "metadata": {},
   "outputs": [
    {
     "name": "stdout",
     "output_type": "stream",
     "text": [
      "Help on built-in function pow in module builtins:\n",
      "\n",
      "pow(base, exp, mod=None)\n",
      "    Equivalent to base**exp with 2 arguments or base**exp % mod with 3 arguments\n",
      "    \n",
      "    Some types, such as ints, are able to use a more efficient algorithm when\n",
      "    invoked using the three argument form.\n",
      "\n"
     ]
    }
   ],
   "source": [
    "help(pow)"
   ]
  },
  {
   "cell_type": "markdown",
   "id": "d8fd2179-3215-4950-948c-cde2763c35df",
   "metadata": {},
   "source": [
    "# Control Flow"
   ]
  },
  {
   "cell_type": "code",
   "execution_count": 90,
   "id": "e25366f7-0e67-4584-9585-5baea0060056",
   "metadata": {},
   "outputs": [
    {
     "name": "stdin",
     "output_type": "stream",
     "text": [
      " 22\n",
      " 4\n"
     ]
    },
    {
     "name": "stdout",
     "output_type": "stream",
     "text": [
      "22\n",
      "I am still inside if condition\n"
     ]
    }
   ],
   "source": [
    "a=int(input())\n",
    "b=int(input())\n",
    "if a>b:\n",
    "    print(a)\n",
    "    print(\"I am still inside if condition\")\n",
    "if b>a:\n",
    "    print(b)"
   ]
  },
  {
   "cell_type": "code",
   "execution_count": 86,
   "id": "42fbc8b4-0694-495e-acc6-6e8075bdb17e",
   "metadata": {},
   "outputs": [
    {
     "name": "stdin",
     "output_type": "stream",
     "text": [
      " 10\n",
      " 45\n"
     ]
    },
    {
     "name": "stdout",
     "output_type": "stream",
     "text": [
      "45\n"
     ]
    }
   ],
   "source": [
    "a=int(input())\n",
    "b=int(input())\n",
    "if a>b:\n",
    "    print(a)\n",
    "else:\n",
    "    print(b)"
   ]
  },
  {
   "cell_type": "code",
   "execution_count": 93,
   "id": "d168634b-e0e3-49e2-be25-207fe34cfff9",
   "metadata": {},
   "outputs": [
    {
     "name": "stdin",
     "output_type": "stream",
     "text": [
      " 10\n",
      " 5\n"
     ]
    },
    {
     "name": "stdout",
     "output_type": "stream",
     "text": [
      "A\n",
      "Not in if\n"
     ]
    }
   ],
   "source": [
    "a=int(input())\n",
    "b=int(input())\n",
    "if a==b:\n",
    "    print(\"Equal\")\n",
    "elif a>b:\n",
    "    print(\"A\")\n",
    "else:\n",
    "    print(\"B\")\n",
    "print(\"Not in if\")"
   ]
  },
  {
   "cell_type": "code",
   "execution_count": 95,
   "id": "ea376ee4-8aec-4c4b-b081-88c646dc05ad",
   "metadata": {},
   "outputs": [
    {
     "name": "stdout",
     "output_type": "stream",
     "text": [
      "B\n"
     ]
    }
   ],
   "source": [
    "a=9\n",
    "b=10\n",
    "print(\"A\") if a>b else print (\"==\") if a==b else print (\"B\")"
   ]
  },
  {
   "cell_type": "code",
   "execution_count": 20,
   "id": "6f6b388f-adc5-4f4b-a71e-08e365f8b782",
   "metadata": {},
   "outputs": [
    {
     "name": "stdin",
     "output_type": "stream",
     "text": [
      "Enter Marks : 64\n"
     ]
    },
    {
     "name": "stdout",
     "output_type": "stream",
     "text": [
      "Below Average\n"
     ]
    }
   ],
   "source": [
    "a =int(input(\"Enter Marks :\"))\n",
    "if a >=85:\n",
    "    print(\"A Grade\")\n",
    "elif (a < 85) and (a >=80):\n",
    "    print(\"A- Grade\")\n",
    "elif a < 80 and a >= 75:\n",
    "    print(\"B Grade\")\n",
    "elif a <75 and a >= 70:\n",
    "    print(\"B- Grade\")\n",
    "else:\n",
    "    print(\"Below Average\")"
   ]
  },
  {
   "cell_type": "code",
   "execution_count": 1,
   "id": "88344442-4e05-4d54-86bc-15739159a12e",
   "metadata": {},
   "outputs": [
    {
     "name": "stdout",
     "output_type": "stream",
     "text": [
      "Else part\n"
     ]
    }
   ],
   "source": [
    "a=3\n",
    "if a>10:\n",
    "    print(\">10\")\n",
    "elif not(a>10):\n",
    "    print(\"Else part\")"
   ]
  },
  {
   "cell_type": "markdown",
   "id": "7f5a6b89-8ed9-4bc0-b6f2-1550b4be4b06",
   "metadata": {},
   "source": [
    "# Nested-if"
   ]
  },
  {
   "cell_type": "code",
   "execution_count": 6,
   "id": "95acfa29-4e1b-4134-ac99-1c0e3840dc3b",
   "metadata": {},
   "outputs": [
    {
     "name": "stdin",
     "output_type": "stream",
     "text": [
      " 25\n"
     ]
    },
    {
     "name": "stdout",
     "output_type": "stream",
     "text": [
      ">10\n",
      "Inside the top if\n",
      ">20\n",
      "Inside the nested if\n",
      "<=30\n",
      "Inside the else part of the nested if of nested if\n",
      "Outside all ifs\n"
     ]
    }
   ],
   "source": [
    "a=int(input())\n",
    "if a>10:\n",
    "    print(\">10\")\n",
    "    print(\"Inside the top if\")\n",
    "    if a>20:\n",
    "        print(\">20\")\n",
    "        print(\"Inside the nested if\")\n",
    "        if a>30:\n",
    "            print(\">30\")\n",
    "            print(\"Inside the nested if of nested if\")\n",
    "        else:\n",
    "            print(\"<=30\")\n",
    "            print(\"Inside the else part of the nested if of nested if\")\n",
    "    else:\n",
    "        print(\"<=20\")\n",
    "        print(\"Inside the else part of nested if\")\n",
    "print(\"Outside all ifs\")"
   ]
  },
  {
   "cell_type": "code",
   "execution_count": 7,
   "id": "ceb556c7-7fad-4f22-8d22-f6522da4555a",
   "metadata": {},
   "outputs": [
    {
     "name": "stdin",
     "output_type": "stream",
     "text": [
      "Enter a real number : 90.6\n"
     ]
    },
    {
     "name": "stdout",
     "output_type": "stream",
     "text": [
      "90\n",
      "Even\n"
     ]
    }
   ],
   "source": [
    "# single line  comment\n",
    "\"\"\" \n",
    "User will enter a floating point number let's say 238.915.Your task is to find out the integer portion before\n",
    "the point(in this case 238) and then check if that integer portion is an even number or not.\n",
    "\"\"\"\n",
    "x =float(input(\"Enter a real number :\"))\n",
    "y =round(x)\n",
    "if x>0:\n",
    "    if y>x:\n",
    "        intPortion =y-1 #29.6\n",
    "    else:\n",
    "        intPortion =y\n",
    "else:\n",
    "    if y<x:\n",
    "        intPortion =y+1\n",
    "    else:\n",
    "        intPortion =y\n",
    "print(intPortion)\n",
    "\n",
    "if intPortion%2==0:\n",
    "    print(\"Even\")\n",
    "else:\n",
    "    print(\"Odd\")\n"
   ]
  },
  {
   "cell_type": "markdown",
   "id": "6f9286f5-d420-4577-87e9-f2907fe6266d",
   "metadata": {},
   "source": [
    "# Loops"
   ]
  },
  {
   "cell_type": "code",
   "execution_count": 1,
   "id": "a9370eed-b526-4e24-a622-3b436007eed6",
   "metadata": {},
   "outputs": [
    {
     "name": "stdin",
     "output_type": "stream",
     "text": [
      " 7\n"
     ]
    },
    {
     "name": "stdout",
     "output_type": "stream",
     "text": [
      "1\n",
      "This is iteration number: 1\n",
      "4\n",
      "This is iteration number: 2\n",
      "9\n",
      "This is iteration number: 3\n",
      "16\n",
      "This is iteration number: 4\n",
      "25\n",
      "This is iteration number: 5\n",
      "36\n",
      "This is iteration number: 6\n",
      "loop done\n"
     ]
    }
   ],
   "source": [
    "n=int(input())\n",
    "i=1\n",
    "while i<n:\n",
    "    print(i**2)\n",
    "    print(\"This is iteration number:\",i)\n",
    "    i+=1\n",
    "print(\"loop done\")"
   ]
  },
  {
   "cell_type": "code",
   "execution_count": 4,
   "id": "2994a809-5fd8-4cc0-a722-5f3185dcf4ff",
   "metadata": {},
   "outputs": [
    {
     "name": "stdout",
     "output_type": "stream",
     "text": [
      "2\n",
      "4\n",
      "done\n"
     ]
    }
   ],
   "source": [
    "n=5\n",
    "i=1\n",
    "while i<n:\n",
    "    if i%2==0:\n",
    "        print (i)\n",
    "    else:\n",
    "        pass\n",
    "    i+=1\n",
    "print(\"done\")"
   ]
  },
  {
   "cell_type": "markdown",
   "id": "77d49566-1f8d-44b0-9cf2-4302f673d1a8",
   "metadata": {},
   "source": [
    "# Break,Continue"
   ]
  },
  {
   "cell_type": "code",
   "execution_count": 6,
   "id": "2cc92598-01ac-4d02-a436-30888d49f54f",
   "metadata": {},
   "outputs": [
    {
     "name": "stdout",
     "output_type": "stream",
     "text": [
      "Inside else\n",
      "Inside else\n",
      "Inside else\n",
      "Inside else\n",
      "Inside else\n",
      "Inside else\n",
      "Inside else\n",
      "Inside else\n",
      "Inside if\n",
      "done\n"
     ]
    }
   ],
   "source": [
    "n=10\n",
    "i=1\n",
    "while True:\n",
    "    if i%9==0:\n",
    "        print(\"Inside if\")\n",
    "        break\n",
    "    else:\n",
    "        print(\"Inside else\")\n",
    "        i+=1\n",
    "print(\"done\")"
   ]
  },
  {
   "cell_type": "code",
   "execution_count": 3,
   "id": "21c134ae-4496-43db-b306-23ec2e3e28ce",
   "metadata": {},
   "outputs": [
    {
     "name": "stdout",
     "output_type": "stream",
     "text": [
      "Inside if\n",
      "Inside if\n",
      "Inside if\n",
      "Inside if\n",
      "Inside if\n",
      "Inside if\n",
      "Inside if\n",
      "Inside if\n",
      "something\n",
      "something else\n",
      "done\n"
     ]
    }
   ],
   "source": [
    "n=10\n",
    "i=1\n",
    "while True:\n",
    "    if i%9 !=0:\n",
    "        print(\"Inside if\")\n",
    "        i+=1\n",
    "        continue\n",
    "    print(\"something\")\n",
    "    print(\"something else\")\n",
    "    break\n",
    "    \n",
    "print(\"done\")"
   ]
  },
  {
   "cell_type": "code",
   "execution_count": 6,
   "id": "4c7d1031-f678-4645-86bf-0a5e01c3e62b",
   "metadata": {},
   "outputs": [
    {
     "name": "stdout",
     "output_type": "stream",
     "text": [
      "1\n",
      "3\n",
      "5\n",
      "7\n",
      "9\n",
      "[0, 4, 16, 36, 64]\n"
     ]
    }
   ],
   "source": [
    "L=[]\n",
    "for i in range(0,10,2):\n",
    "    print(i+1)\n",
    "    L.append(i**2)\n",
    "print(L)"
   ]
  },
  {
   "cell_type": "markdown",
   "id": "19f29f76-925d-466f-9767-66b86abdf445",
   "metadata": {},
   "source": [
    "# Data Visualization"
   ]
  },
  {
   "cell_type": "markdown",
   "id": "2a1f7ab5-8140-484b-992e-cf8626aac354",
   "metadata": {},
   "source": [
    "# Matplotlib"
   ]
  },
  {
   "cell_type": "markdown",
   "id": "49ac16ed-b643-45f8-bdd2-bc09a4a9c1f7",
   "metadata": {},
   "source": [
    "# Line plot"
   ]
  },
  {
   "cell_type": "code",
   "execution_count": 3,
   "id": "f6ae47f9-f985-4816-b2d0-463d2ddc2c3e",
   "metadata": {},
   "outputs": [
    {
     "data": {
      "text/plain": [
       "<function matplotlib.pyplot.show(close=None, block=None)>"
      ]
     },
     "execution_count": 3,
     "metadata": {},
     "output_type": "execute_result"
    },
    {
     "data": {
      "image/png": "[encoded data removed]",
      "text/plain": [
       "<Figure size 640x480 with 1 Axes>"
      ]
     },
     "metadata": {},
     "output_type": "display_data"
    }
   ],
   "source": [
    "#importing matplotlib module\n",
    "from matplotlib import pyplot as plt\n",
    "\n",
    "#X-axis values\n",
    "x = [5,2,9,4,7]\n",
    "\n",
    "#Y-axis values\n",
    "y = [10,5,8,4,2]\n",
    "\n",
    "#Function to plot\n",
    "plt.plot(x,y)\n",
    "\n",
    "#Function to show the plot\n",
    "plt.show"
   ]
  },
  {
   "cell_type": "markdown",
   "id": "511f79d9-1c92-407f-9080-f5979fadf30c",
   "metadata": {},
   "source": [
    "# Bar plot"
   ]
  },
  {
   "cell_type": "code",
   "execution_count": 4,
   "id": "9e048b6a-46be-43a7-bea8-566b13197d9b",
   "metadata": {},
   "outputs": [
    {
     "data": {
      "text/plain": [
       "<function matplotlib.pyplot.show(close=None, block=None)>"
      ]
     },
     "execution_count": 4,
     "metadata": {},
     "output_type": "execute_result"
    },
    {
     "data": {
      "image/png": "[encoded data removed]",
      "text/plain": [
       "<Figure size 640x480 with 1 Axes>"
      ]
     },
     "metadata": {},
     "output_type": "display_data"
    }
   ],
   "source": [
    "#importing matplotlib module\n",
    "from matplotlib import pyplot as plt\n",
    "\n",
    "#X-axis values\n",
    "x = [5,2,9,4,7]\n",
    "\n",
    "#Y-axis values\n",
    "y = [10,5,8,4,2]\n",
    "\n",
    "#Function to plot\n",
    "plt.bar(x,y)\n",
    "\n",
    "#Function to show the plot\n",
    "plt.show"
   ]
  },
  {
   "cell_type": "markdown",
   "id": "9898c657-a024-4c99-9826-bb853a7a0830",
   "metadata": {},
   "source": [
    "# Histogram"
   ]
  },
  {
   "cell_type": "code",
   "execution_count": 5,
   "id": "cb9b1b07-55b0-4e14-ac2b-8dc26187b603",
   "metadata": {},
   "outputs": [
    {
     "data": {
      "text/plain": [
       "<function matplotlib.pyplot.show(close=None, block=None)>"
      ]
     },
     "execution_count": 5,
     "metadata": {},
     "output_type": "execute_result"
    },
    {
     "data": {
      "image/png": "[encoded data removed]",
      "text/plain": [
       "<Figure size 640x480 with 1 Axes>"
      ]
     },
     "metadata": {},
     "output_type": "display_data"
    }
   ],
   "source": [
    "#importing matplotlib module\n",
    "from matplotlib import pyplot as plt\n",
    "\n",
    "#Y-axis values\n",
    "y = [10,5,8,4,2]\n",
    "\n",
    "#Function to plot histogram\n",
    "plt.hist(y)\n",
    "\n",
    "#Function to show the plot\n",
    "plt.show"
   ]
  },
  {
   "cell_type": "markdown",
   "id": "0a4e7b24-dadd-4ee9-ad9d-83cae1bb1568",
   "metadata": {},
   "source": [
    "# Scatter Plot"
   ]
  },
  {
   "cell_type": "code",
   "execution_count": 6,
   "id": "ecd826d3-904c-4c9d-acb6-662ebc08004c",
   "metadata": {},
   "outputs": [
    {
     "data": {
      "text/plain": [
       "<function matplotlib.pyplot.show(close=None, block=None)>"
      ]
     },
     "execution_count": 6,
     "metadata": {},
     "output_type": "execute_result"
    },
    {
     "data": {
      "image/png": "[encoded data removed]",
      "text/plain": [
       "<Figure size 640x480 with 1 Axes>"
      ]
     },
     "metadata": {},
     "output_type": "display_data"
    }
   ],
   "source": [
    "#importing matplotlib module\n",
    "from matplotlib import pyplot as plt\n",
    "\n",
    "#X-axis values\n",
    "x = [5,2,9,4,7]\n",
    "\n",
    "#Y-axis values\n",
    "y = [10,5,8,4,2]\n",
    "\n",
    "#Function to plot scatter\n",
    "plt.scatter(x,y)\n",
    "\n",
    "#Function to show the plot\n",
    "plt.show"
   ]
  },
  {
   "cell_type": "code",
   "execution_count": 7,
   "id": "3250b9ad-6834-41be-82a2-89e605fe91c0",
   "metadata": {},
   "outputs": [
    {
     "data": {
      "text/plain": [
       "<function matplotlib.pyplot.show(close=None, block=None)>"
      ]
     },
     "execution_count": 7,
     "metadata": {},
     "output_type": "execute_result"
    },
    {
     "data": {
      "image/png": "[encoded data removed]",
      "text/plain": [
       "<Figure size 640x480 with 1 Axes>"
      ]
     },
     "metadata": {},
     "output_type": "display_data"
    }
   ],
   "source": [
    "#importing matplotlib module\n",
    "from matplotlib import pyplot as plt\n",
    "\n",
    "#X-axis values\n",
    "x = [5,2,9,4,7]\n",
    "\n",
    "#Y-axis values\n",
    "y = [10,5,8,4,2]\n",
    "\n",
    "#Function to plot scatter\n",
    "plt.scatter(x,y)\n",
    "\n",
    "#Adding title\n",
    "plt.title(\"Geeksforgeeks\")\n",
    "\n",
    "#Labelling the axes\n",
    "plt.xlabel(\"Time(Hr)\")\n",
    "plt.ylabel(\"Position(Km)\")\n",
    "\n",
    "#Function to show the plot\n",
    "plt.show"
   ]
  },
  {
   "cell_type": "code",
   "execution_count": 9,
   "id": "e654c673-01f0-4fb3-bd76-88e60cb8e88b",
   "metadata": {},
   "outputs": [
    {
     "data": {
      "text/plain": [
       "<function matplotlib.pyplot.show(close=None, block=None)>"
      ]
     },
     "execution_count": 9,
     "metadata": {},
     "output_type": "execute_result"
    },
    {
     "data": {
      "image/png": "[encoded data removed]",
      "text/plain": [
       "<Figure size 640x480 with 1 Axes>"
      ]
     },
     "metadata": {},
     "output_type": "display_data"
    }
   ],
   "source": [
    "#importing matplotlib module\n",
    "from matplotlib import pyplot as plt\n",
    "\n",
    "x = [1,2,3,4,5]\n",
    "y = [1,4,9,16,25]\n",
    "plt.scatter(x,y)\n",
    "\n",
    "#function to show\n",
    "plt.show\n",
    "\n",
    "#function to plot\n",
    "plt.plot(x,y)\n",
    "\n",
    "#function to show\n",
    "plt.show"
   ]
  },
  {
   "cell_type": "markdown",
   "id": "ffd45234-84ea-4bd9-96a4-d36bb4ae2270",
   "metadata": {},
   "source": [
    "# Pie charts"
   ]
  },
  {
   "cell_type": "code",
   "execution_count": 10,
   "id": "dec863bf-63a3-4d6a-9a3e-7d7cbf659486",
   "metadata": {},
   "outputs": [
    {
     "data": {
      "image/png": "[encoded data removed]",
      "text/plain": [
       "<Figure size 640x480 with 1 Axes>"
      ]
     },
     "metadata": {},
     "output_type": "display_data"
    }
   ],
   "source": [
    "import matplotlib.pyplot as plt\n",
    " \n",
    "# Data for the pie chart\n",
    "labels = ['Geeks 1', 'Geeks 2', 'Geeks 3']\n",
    "sizes = [35, 35, 30]\n",
    " \n",
    "# Plotting the pie chart\n",
    "plt.pie(sizes, labels=labels, autopct='%1.1f%%', startangle=90)\n",
    "plt.title('Pie Chart Example')\n",
    "plt.show()"
   ]
  },
  {
   "cell_type": "markdown",
   "id": "cc0d1ee0-166a-4fea-b95f-35133fda3edf",
   "metadata": {},
   "source": [
    "# Area plot"
   ]
  },
  {
   "cell_type": "code",
   "execution_count": 11,
   "id": "d0d3c089-099e-421a-858a-42c1b460425d",
   "metadata": {},
   "outputs": [
    {
     "data": {
      "image/png": "[encoded data removed]",
      "text/plain": [
       "<Figure size 640x480 with 1 Axes>"
      ]
     },
     "metadata": {},
     "output_type": "display_data"
    },
    {
     "data": {
      "text/plain": [
       "(<matplotlib.legend.Legend at 0x14890ad0950>, None)"
      ]
     },
     "execution_count": 11,
     "metadata": {},
     "output_type": "execute_result"
    }
   ],
   "source": [
    "import matplotlib.pyplot as plt\n",
    " \n",
    "# Data\n",
    "x = [1, 2, 3, 4, 5]\n",
    "y1, y2 = [10, 20, 15, 25, 30], [5, 15, 10, 20, 25]\n",
    " \n",
    "# Area Chart\n",
    "plt.fill_between(x, y1, y2, color='skyblue', alpha=0.4, label='Area 1-2')\n",
    "plt.plot(x, y1, label='Line 1', marker='o')\n",
    "plt.plot(x, y2, label='Line 2', marker='o')\n",
    " \n",
    "# Labels and Title\n",
    "plt.xlabel('X-axis'), plt.ylabel('Y-axis'), plt.title('Area Chart Example')\n",
    " \n",
    "# Legend and Display\n",
    "plt.legend(), plt.show()"
   ]
  },
  {
   "cell_type": "markdown",
   "id": "e9f141d3-95c6-4cdc-a51b-03beffc1448b",
   "metadata": {},
   "source": [
    "# Linear Plot using matplotlib.pyplot"
   ]
  },
  {
   "cell_type": "code",
   "execution_count": 15,
   "id": "db13075e-8ccb-4ff3-b6bd-b687c143f1b9",
   "metadata": {},
   "outputs": [
    {
     "data": {
      "image/png": "[encoded data removed]",
      "text/plain": [
       "<Figure size 640x480 with 1 Axes>"
      ]
     },
     "metadata": {},
     "output_type": "display_data"
    }
   ],
   "source": [
    "# Python Program to illustrate Linear Plotting\n",
    "import matplotlib.pyplot as plt\n",
    " \n",
    "# year contains the x-axis values\n",
    "# and e-india & e-bangladesh\n",
    "# are the y-axis values for plotting  \n",
    " \n",
    "year = [1972, 1982, 1992, 2002, 2012]\n",
    "e_india = [100.6, 158.61, 305.54, 394.96, 724.79]\n",
    "e_bangladesh = [10.5, 25.21, 58.65, 119.27, 274.87]\n",
    " \n",
    "# plotting of x-axis(year) and \n",
    "# y-axis(power consumption)\n",
    "# with different colored labels of two countries \n",
    "\n",
    "plt.plot(year, e_india, color ='orange', \n",
    "         label ='India')\n",
    " \n",
    "plt.plot(year, e_bangladesh, color ='g', \n",
    "         label ='Bangladesh')\n",
    " \n",
    "# naming of x-axis and y-axis\n",
    "plt.xlabel('Years')\n",
    "plt.ylabel('Power consumption in kWh')\n",
    " \n",
    "# naming the title of the plot\n",
    "plt.title('Electricity consumption per capita\\\n",
    " of India and Bangladesh')\n",
    " \n",
    "plt.legend()\n",
    "plt.show()"
   ]
  },
  {
   "cell_type": "markdown",
   "id": "d5f39a68-b8c6-4188-b015-7bc6c9f3bd0b",
   "metadata": {},
   "source": [
    "# Linear Plot with Line Formatting"
   ]
  },
  {
   "cell_type": "code",
   "execution_count": 17,
   "id": "7f643f5b-092e-4e51-909e-bcaf35d579df",
   "metadata": {},
   "outputs": [
    {
     "data": {
      "image/png": "[encoded data removed]",
      "text/plain": [
       "<Figure size 640x480 with 1 Axes>"
      ]
     },
     "metadata": {},
     "output_type": "display_data"
    }
   ],
   "source": [
    "# Python Program to illustrate Linear Plotting\n",
    "import matplotlib.pyplot as plt\n",
    " \n",
    "year = [1972, 1982, 1992, 2002, 2012]\n",
    "e_india = [100.6, 158.61, 305.54, \n",
    "           394.96, 724.79]\n",
    " \n",
    "e_bangladesh = [10.5, 25.21, 58.65,\n",
    "                119.27, 274.87]\n",
    " \n",
    "# formatting of line style and \n",
    "# plotting of co-ordinates\n",
    "plt.plot(year, e_india, color ='orange',\n",
    "         marker ='o', markersize = 12, \n",
    "         label ='India')\n",
    " \n",
    "plt.plot(year, e_bangladesh, color ='g',\n",
    "         linestyle ='dashed', linewidth = 2,\n",
    "         label ='Bangladesh')\n",
    " \n",
    "plt.xlabel('Years')\n",
    "plt.ylabel('Power consumption in kWh')\n",
    " \n",
    "plt.title('Electricity consumption per \\\n",
    "capita of India and Bangladesh')\n",
    " \n",
    "plt.legend()\n",
    "plt.show()"
   ]
  },
  {
   "cell_type": "markdown",
   "id": "2701a525-2369-4d1e-a4ca-e24358d4301d",
   "metadata": {},
   "source": [
    "# Scatter Plot with Color Mapping"
   ]
  },
  {
   "cell_type": "code",
   "execution_count": 18,
   "id": "3918e76d-1b68-46ab-9340-a18218a7e0cc",
   "metadata": {},
   "outputs": [
    {
     "data": {
      "image/png": "[encoded data removed]",
      "text/plain": [
       "<Figure size 640x480 with 2 Axes>"
      ]
     },
     "metadata": {},
     "output_type": "display_data"
    }
   ],
   "source": [
    "import matplotlib.pyplot as plt\n",
    "import numpy as np\n",
    " \n",
    "# Generate random data\n",
    "np.random.seed(42)\n",
    "x = np.random.rand(50)\n",
    "y = np.random.rand(50)\n",
    "colors = np.random.rand(50)\n",
    " \n",
    "# Create a scatter plot with color mapping\n",
    "plt.scatter(x, y, c=colors, cmap='viridis', s=100, alpha=0.8)\n",
    " \n",
    "# Add color bar for reference\n",
    "cbar = plt.colorbar()\n",
    "cbar.set_label('Color Value')\n",
    " \n",
    "# Set plot title and labels\n",
    "plt.title('Scatter Plot with Color Mapping')\n",
    "plt.xlabel('X-axis')\n",
    "plt.ylabel('Y-axis')\n",
    " \n",
    "# Display the plot\n",
    "plt.show()"
   ]
  },
  {
   "cell_type": "markdown",
   "id": "bb1555cd-d2fa-413e-94b7-61365f70fafe",
   "metadata": {},
   "source": [
    "# Axes"
   ]
  },
  {
   "cell_type": "code",
   "execution_count": 19,
   "id": "e0e9c290-110c-49ff-acbe-5e02b05c058d",
   "metadata": {},
   "outputs": [
    {
     "data": {
      "image/png": "[encoded data removed]",
      "text/plain": [
       "<Figure size 640x480 with 1 Axes>"
      ]
     },
     "metadata": {},
     "output_type": "display_data"
    }
   ],
   "source": [
    "import matplotlib.pyplot as plt \n",
    "import numpy as np \n",
    "  \n",
    "  \n",
    "X = np.linspace(-np.pi, np.pi, 15) \n",
    "C = np.cos(X) \n",
    "S = np.sin(X) \n",
    "  \n",
    "# [left, bottom, width, height] \n",
    "ax = plt.axes([0.1, 0.1, 0.8, 0.8])  \n",
    "  \n",
    "# 'bs:' mentions blue color, square  \n",
    "# marker with dotted line. \n",
    "ax1 = ax.plot(X, C, 'bs:')  \n",
    "  \n",
    "#'ro-' mentions red color, circle  \n",
    "# marker with solid line. \n",
    "ax2 = ax.plot(X, S, 'ro-')  \n",
    "  \n",
    "ax.legend(labels = ('Cosine Function',  \n",
    "                    'Sine Function'),  \n",
    "          loc = 'upper left') \n",
    "  \n",
    "ax.set_title(\"Trigonometric Functions\") \n",
    "  \n",
    "plt.show() "
   ]
  },
  {
   "cell_type": "code",
   "execution_count": null,
   "id": "c4538b2c-ad64-40e8-814e-f89e900282c4",
   "metadata": {},
   "outputs": [],
   "source": []
  }
 ],
 "metadata": {
  "kernelspec": {
   "display_name": "Python 3 (ipykernel)",
   "language": "python",
   "name": "python3"
  },
  "language_info": {
   "codemirror_mode": {
    "name": "ipython",
    "version": 3
   },
   "file_extension": ".py",
   "mimetype": "text/x-python",
   "name": "python",
   "nbconvert_exporter": "python",
   "pygments_lexer": "ipython3",
   "version": "3.11.7"
  }
 },
 "nbformat": 4,
 "nbformat_minor": 5
}
